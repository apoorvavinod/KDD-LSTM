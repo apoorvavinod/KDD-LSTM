{
 "cells": [
  {
   "cell_type": "code",
   "execution_count": 1,
   "metadata": {
    "collapsed": false
   },
   "outputs": [
    {
     "name": "stderr",
     "output_type": "stream",
     "text": [
      "Using TensorFlow backend.\n"
     ]
    }
   ],
   "source": [
    "from keras.models import Sequential\n",
    "from keras.layers import LSTM,Dropout\n",
    "from keras.layers import Dense\n",
    "import pandas as pd\n",
    "import numpy as np\n",
    "from sklearn.model_selection import train_test_split\n",
    "from sklearn import decomposition\n",
    "from sklearn.feature_selection import SelectKBest\n",
    "from sklearn.feature_selection import chi2\n",
    "from sklearn.pipeline import FeatureUnion\n",
    "from sklearn.model_selection import StratifiedKFold\n",
    "import matplotlib.pyplot as plt\n",
    "import scikitplot as skplt\n",
    "from sklearn.preprocessing import label_binarize\n",
    "from sklearn.metrics import roc_curve, auc\n",
    "from scipy import interp\n",
    "from itertools import cycle\n",
    "import time\n",
    "from keras import metrics\n",
    "from keras import optimizers\n",
    "from keras import initializers\n",
    "from keras.callbacks import ModelCheckpoint\n",
    "import pprint\n",
    "from keras.callbacks import Callback"
   ]
  },
  {
   "cell_type": "code",
   "execution_count": 2,
   "metadata": {
    "collapsed": true
   },
   "outputs": [],
   "source": [
    "kdd_dataset = pd.read_csv('KDD.preProcessed.csv')\n",
    "kdd_dataset.head()\n",
    "#kdd_dataset.dropna()\n",
    "np.random.seed(42)"
   ]
  },
  {
   "cell_type": "code",
   "execution_count": 3,
   "metadata": {
    "collapsed": true
   },
   "outputs": [],
   "source": [
    "columns = list(kdd_dataset)\n",
    "features = columns\n",
    "features.remove('label_DoS')\n",
    "features.remove('label_Normal')\n",
    "features.remove('label_Probe')\n",
    "features.remove('label_R2L')\n",
    "features.remove('label_U2R')"
   ]
  },
  {
   "cell_type": "code",
   "execution_count": 4,
   "metadata": {
    "collapsed": true
   },
   "outputs": [],
   "source": [
    "\n",
    "DoS = kdd_dataset.loc[kdd_dataset['label_DoS'] == 1]\n",
    "Normal = kdd_dataset.loc[kdd_dataset['label_Normal'] == 1]\n",
    "Probe = kdd_dataset.loc[kdd_dataset['label_Probe'] == 1]\n",
    "R2L = kdd_dataset.loc[kdd_dataset['label_R2L'] == 1]\n",
    "U2R = kdd_dataset.loc[kdd_dataset['label_U2R'] == 1]\n"
   ]
  },
  {
   "cell_type": "code",
   "execution_count": 5,
   "metadata": {
    "collapsed": false
   },
   "outputs": [
    {
     "data": {
      "text/plain": [
       "'\\nDoS = DoS.sample(n=100000,random_state = 42)\\nNormal = Normal.sample(n=100000, random_state = 42)\\nProbe = Probe.sample(n=40000, random_state=42)\\nR2L = R2L.sample(n=1126, random_state=42)\\n'"
      ]
     },
     "execution_count": 5,
     "metadata": {},
     "output_type": "execute_result"
    }
   ],
   "source": [
    "DoS = DoS.sample(n=1000,random_state = 42)\n",
    "Normal = Normal.sample(n=1000, random_state = 42)\n",
    "Probe = Probe.sample(n=1000, random_state=42)\n",
    "R2L = R2L.sample(n=1126, random_state=42)\n",
    "'''\n",
    "DoS = DoS.sample(n=100000,random_state = 42)\n",
    "Normal = Normal.sample(n=100000, random_state = 42)\n",
    "Probe = Probe.sample(n=40000, random_state=42)\n",
    "R2L = R2L.sample(n=1126, random_state=42)\n",
    "'''"
   ]
  },
  {
   "cell_type": "code",
   "execution_count": 6,
   "metadata": {
    "collapsed": true
   },
   "outputs": [],
   "source": [
    "#U2R = U2R.append([U2R]*500,ignore_index=True)\n",
    "#R2L = R2L.append([R2L]*100,ignore_index=True)"
   ]
  },
  {
   "cell_type": "code",
   "execution_count": 6,
   "metadata": {
    "collapsed": true
   },
   "outputs": [],
   "source": [
    "reduced_dataset = pd.concat([DoS,Normal,Probe,R2L,U2R])\n",
    "kdd_dataset = reduced_dataset.sample(n=len(reduced_dataset), random_state = 42)"
   ]
  },
  {
   "cell_type": "code",
   "execution_count": 7,
   "metadata": {
    "collapsed": false
   },
   "outputs": [
    {
     "name": "stdout",
     "output_type": "stream",
     "text": [
      "number of datapoints = 4148 and number of features = 53\n"
     ]
    }
   ],
   "source": [
    "\n",
    "x = kdd_dataset[features].values\n",
    "y = kdd_dataset.iloc[:,53:].values\n",
    "print(\"number of datapoints = {} and number of features = {}\".format(len(x),len(x[0])))"
   ]
  },
  {
   "cell_type": "code",
   "execution_count": 8,
   "metadata": {
    "collapsed": false
   },
   "outputs": [
    {
     "name": "stdout",
     "output_type": "stream",
     "text": [
      "Counter({(0.0, 0.0, 0.0, 1.0, 0.0): 1126, (1.0, 0.0, 0.0, 0.0, 0.0): 1000, (0.0, 1.0, 0.0, 0.0, 0.0): 1000, (0.0, 0.0, 1.0, 0.0, 0.0): 1000, (0.0, 0.0, 0.0, 0.0, 1.0): 22})\n"
     ]
    }
   ],
   "source": [
    "# Counting occurrences\n",
    "from collections import Counter\n",
    "print(Counter([tuple(x) for x in y]))"
   ]
  },
  {
   "cell_type": "code",
   "execution_count": 9,
   "metadata": {
    "collapsed": false
   },
   "outputs": [
    {
     "name": "stdout",
     "output_type": "stream",
     "text": [
      "Shape before transformation - (4148, 53)\n",
      "Shape after transformation - (4148, 10)\n"
     ]
    }
   ],
   "source": [
    "#PCA\n",
    "\n",
    "print(\"Shape before transformation - {}\".format(np.asarray(x).shape))\n",
    "pca = decomposition.PCA(n_components=10)\n",
    "pca.fit(x)\n",
    "x_pca = pca.transform(x)\n",
    "print(\"Shape after transformation - {}\".format(x_pca.shape))\n",
    "x_pca = x_pca.tolist()\n",
    "\n"
   ]
  },
  {
   "cell_type": "code",
   "execution_count": 10,
   "metadata": {
    "collapsed": true
   },
   "outputs": [],
   "source": [
    "from sklearn.model_selection import train_test_split\n",
    "X_tr, X_val, Y_tr, Y_val = train_test_split(x_pca, y,\n",
    "                                                    stratify=y, \n",
    "                                                    test_size=0.2,\n",
    "                                                    random_state=42)\n"
   ]
  },
  {
   "cell_type": "code",
   "execution_count": 11,
   "metadata": {
    "collapsed": true
   },
   "outputs": [],
   "source": [
    "X_train, X_test, Y_train, Y_test = train_test_split(X_tr, Y_tr,\n",
    "                                                    stratify=Y_tr, \n",
    "                                                    test_size=0.25,\n",
    "                                                    random_state=42)\n",
    "max_len = len(X_train)"
   ]
  },
  {
   "cell_type": "code",
   "execution_count": 12,
   "metadata": {
    "collapsed": true
   },
   "outputs": [],
   "source": [
    "def processTrainTestArrays(x,y):\n",
    "    x=np.asarray(x)\n",
    "    y=np.asarray(y)\n",
    "    x = np.reshape(x, (x.shape[0], x.shape[1],1))\n",
    "    y=np.reshape(y, (y.shape[0], y.shape[1]))\n",
    "    return x,y"
   ]
  },
  {
   "cell_type": "code",
   "execution_count": 13,
   "metadata": {
    "collapsed": true
   },
   "outputs": [],
   "source": [
    "def onehotencode(y):\n",
    "    from keras.utils.np_utils import to_categorical\n",
    "    y_binary = to_categorical(y)\n",
    "    return y_binary"
   ]
  },
  {
   "cell_type": "code",
   "execution_count": 21,
   "metadata": {
    "collapsed": true
   },
   "outputs": [],
   "source": [
    "# define model\n",
    "#length = len(kdd_dataset)\n",
    "def create_model(X_train,Y_train, number_of_units):\n",
    "    Batch_size = 1\n",
    "    randomInit = initializers.RandomUniform(seed=42)\n",
    "    nadam = optimizers.Nadam(lr=0.002, beta_1=0.9, beta_2=0.999, epsilon=1e-08, schedule_decay=0.004)\n",
    "    \n",
    "    model = Sequential()\n",
    "    #model.add(LSTM(number_of_units, kernel_initializer = randomInit, bias_initializer = randomInit, stateful = True,\n",
    "    #               batch_input_shape=(Batch_size,X_train.shape[1], X_train.shape[2]),return_sequences=True))\n",
    "    model.add(LSTM(number_of_units, kernel_initializer = randomInit, bias_initializer = randomInit, stateful = True,\n",
    "                   batch_input_shape=(Batch_size,X_train.shape[1], X_train.shape[2]),return_sequences=True))\n",
    "    \n",
    "    #model.add(Dropout(0.1))\n",
    "    #model.add(LSTM(number_of_units, kernel_initializer = randomInit, bias_initializer = randomInit, stateful = True,\n",
    "    #               batch_input_shape=(Batch_size,X_train.shape[1], X_train.shape[2]),return_sequences=True))\n",
    "    #model.add(Dropout(0.1))\n",
    "    #model.add(LSTM(number_of_units, kernel_initializer = randomInit, bias_initializer = randomInit, stateful = True,\n",
    "    #               batch_input_shape=(Batch_size,X_train.shape[1], X_train.shape[2])))\n",
    "    #model.add(Dropout(0.1))\n",
    "    model.add(Dense(Y_train.shape[1], activation='softmax'))\n",
    "    model.compile(loss='categorical_crossentropy', optimizer='adam', metrics=['accuracy'])\n",
    "    \n",
    "    \n",
    "    nadam = optimizers.Nadam(lr=0.002, beta_1=0.9, beta_2=0.999, epsilon=1e-08, schedule_decay=0.004)\n",
    "    model.compile(loss='categorical_crossentropy', optimizer=nadam, metrics=['accuracy'])\n",
    "\n",
    "    print(model.summary())\n",
    "    return model"
   ]
  },
  {
   "cell_type": "code",
   "execution_count": 22,
   "metadata": {
    "collapsed": true
   },
   "outputs": [],
   "source": [
    "#model.summary()"
   ]
  },
  {
   "cell_type": "code",
   "execution_count": 23,
   "metadata": {
    "collapsed": true
   },
   "outputs": [],
   "source": [
    "def compute_metrics(predicted, Y_test):\n",
    "   \n",
    "    Y_classes = [np.argmax(item) for item in Y_test]\n",
    "    #print(Y_classes)\n",
    "    predicted_classes = [np.argmax(item) for item in predicted]\n",
    "    \n",
    "    predictions = np.array(predicted_classes)\n",
    "    Y_actual = np.array(Y_classes)\n",
    "   \n",
    "    y_actu = pd.Series(np.reshape(Y_actual,len(Y_actual)), name='Actual')\n",
    "    y_pred = pd.Series(np.reshape(predictions, len(predictions)), name='Predicted')\n",
    "    \n",
    "    y_act = pd.Categorical(y_actu, categories=[0,1,2,3,4])\n",
    "    y_pre = pd.Categorical(y_pred, categories=[0,1,2,3,4])\n",
    "    \n",
    "    #F1 score\n",
    "    from sklearn.metrics import f1_score\n",
    "    print(\"Average F1 score is {}\".format(f1_score(Y_classes, predicted_classes, average='weighted', labels = [0,1,2,3,4])))\n",
    "    \n",
    "    df_confusion = pd.crosstab(y_act, y_pre, rownames =['Actual'],colnames=['Predicted'])\n",
    "    print(\"Confusion matrix: \\n\", df_confusion)\n",
    "    #pprint.pprint(df_confusion)\n",
    "    predicted= np.array(predicted).tolist()\n",
    "    Y_test = np.array(Y_test).tolist()\n",
    "\n",
    "    n_classes = 5\n",
    "    print(\"n_classes is: \", n_classes)\n",
    "    Y_test= np.asarray(Y_test)\n",
    "    predicted = np.asarray(predicted)\n",
    "    \n",
    "    fpr = dict()\n",
    "    tpr = dict()\n",
    "    roc_auc = dict()\n",
    "    for i in range(n_classes):\n",
    "        fpr[i], tpr[i], _ = roc_curve(Y_test[:, i], predicted[:, i])\n",
    "        roc_auc[i] = auc(fpr[i], tpr[i])\n",
    "\n",
    "    # Compute micro-average ROC curve and ROC area\n",
    "    fpr[\"micro\"], tpr[\"micro\"], _ = roc_curve(Y_test.ravel(), predicted.ravel())\n",
    "    roc_auc[\"micro\"] = auc(fpr[\"micro\"], tpr[\"micro\"])\n",
    "    \n",
    "    lw = 2\n",
    "     # Compute macro-average ROC curve and ROC area\n",
    "     #First aggregate all false positive rates\n",
    "    all_fpr = np.unique(np.concatenate([fpr[i] for i in range(n_classes)]))\n",
    "\n",
    "    # Then interpolate all ROC curves at this points\n",
    "    mean_tpr = np.zeros_like(all_fpr)\n",
    "    for i in range(n_classes):\n",
    "        mean_tpr += interp(all_fpr, fpr[i], tpr[i])\n",
    "\n",
    "    # Finally average it and compute AUC\n",
    "    mean_tpr /= n_classes\n",
    "\n",
    "    fpr[\"macro\"] = all_fpr\n",
    "    tpr[\"macro\"] = mean_tpr\n",
    "    roc_auc[\"macro\"] = auc(fpr[\"macro\"], tpr[\"macro\"])\n",
    "\n",
    "    # Plot all ROC curves\n",
    "    plt.figure()\n",
    "    plt.plot(fpr[\"micro\"], tpr[\"micro\"],\n",
    "             label='micro-average ROC curve (area = {0:0.2f})'\n",
    "                   ''.format(roc_auc[\"micro\"]),\n",
    "             color='deeppink', linestyle=':', linewidth=4)\n",
    "\n",
    "    plt.plot(fpr[\"macro\"], tpr[\"macro\"],\n",
    "             label='macro-average ROC curve (area = {0:0.2f})'\n",
    "                   ''.format(roc_auc[\"macro\"]),\n",
    "             color='navy', linestyle=':', linewidth=4)\n",
    "\n",
    "    colors = cycle(['aqua', 'darkorange', 'cornflowerblue'])\n",
    "    for i, color in zip(range(n_classes), colors):\n",
    "        plt.plot(fpr[i], tpr[i], color=color, lw=lw,\n",
    "                 label='ROC curve of class {0} (area = {1:0.2f})'\n",
    "                 ''.format(i, roc_auc[i]))\n",
    "\n",
    "    plt.plot([0, 1], [0, 1], 'k--', lw=lw)\n",
    "    plt.xlim([0.0, 1.0])\n",
    "    plt.ylim([0.0, 1.05])\n",
    "    plt.xlabel('False Positive Rate')\n",
    "    plt.ylabel('True Positive Rate')\n",
    "    plt.legend(loc=\"lower right\")\n",
    "    plt.show()"
   ]
  },
  {
   "cell_type": "code",
   "execution_count": 24,
   "metadata": {
    "collapsed": true
   },
   "outputs": [],
   "source": [
    "#checkpoint save weights\n",
    "#Y_train\n",
    "\n",
    "hdf5FileName = \"bestWeightsLSTMStateful3L50.hdf5\"\n",
    "checkpoint = ModelCheckpoint(hdf5FileName,monitor='val_acc',verbose=1,save_best_only=True,mode='max',save_weights_only=True)"
   ]
  },
  {
   "cell_type": "code",
   "execution_count": 25,
   "metadata": {
    "collapsed": true
   },
   "outputs": [],
   "source": [
    "class ResetStatesCallback(Callback):\n",
    "    def __init__(self):\n",
    "        self.counter = 0\n",
    "\n",
    "    def on_batch_begin(self, batch, logs={}):\n",
    "        if self.counter % max_len == 0:\n",
    "            self.model.reset_states()\n",
    "            print(\"Model reset. \",self.counter)\n",
    "            self.counter = 0\n",
    "        self.counter += 1\n",
    "        #print(self.counter)\n",
    "        "
   ]
  },
  {
   "cell_type": "code",
   "execution_count": 26,
   "metadata": {
    "collapsed": false,
    "scrolled": false
   },
   "outputs": [
    {
     "name": "stdout",
     "output_type": "stream",
     "text": [
      "_________________________________________________________________\n",
      "Layer (type)                 Output Shape              Param #   \n",
      "=================================================================\n",
      "lstm_1 (LSTM)                (1, 10, 50)               10400     \n",
      "_________________________________________________________________\n",
      "lstm_2 (LSTM)                (1, 10, 50)               20200     \n",
      "_________________________________________________________________\n",
      "lstm_3 (LSTM)                (1, 50)                   20200     \n",
      "_________________________________________________________________\n",
      "dense_1 (Dense)              (1, 5)                    255       \n",
      "=================================================================\n",
      "Total params: 51,055\n",
      "Trainable params: 51,055\n",
      "Non-trainable params: 0\n",
      "_________________________________________________________________\n",
      "None\n",
      "Train on 2488 samples, validate on 830 samples\n",
      "Epoch 1/15\n",
      "Model reset.  0\n",
      "  13/2488 [..............................] - ETA: 24:31 - loss: 1.6056 - acc: 0.3846  "
     ]
    },
    {
     "name": "stderr",
     "output_type": "stream",
     "text": [
      "c:\\users\\salman\\appdata\\local\\programs\\python\\python36\\lib\\site-packages\\keras\\callbacks.py:93: UserWarning: Method on_batch_begin() is slow compared to the batch update (3.211009). Check your callbacks.\n",
      "  % delta_t_median)\n"
     ]
    },
    {
     "name": "stdout",
     "output_type": "stream",
     "text": [
      "2487/2488 [============================>.] - ETA: 0s - loss: 0.5948 - acc: 0.7752Epoch 00001: val_acc improved from -inf to 0.91446, saving model to bestWeightsLSTMStateful3L50.hdf5\n",
      "2488/2488 [==============================] - 43s 17ms/step - loss: 0.5946 - acc: 0.7753 - val_loss: 0.2769 - val_acc: 0.9145\n",
      "Epoch 2/15\n",
      "Model reset.  2488\n",
      "2484/2488 [============================>.] - ETA: 0s - loss: 0.2542 - acc: 0.9179Epoch 00002: val_acc improved from 0.91446 to 0.91928, saving model to bestWeightsLSTMStateful3L50.hdf5\n",
      "2488/2488 [==============================] - 35s 14ms/step - loss: 0.2538 - acc: 0.9180 - val_loss: 0.2528 - val_acc: 0.9193\n",
      "Epoch 3/15\n",
      "Model reset.  2488\n",
      "2486/2488 [============================>.] - ETA: 0s - loss: 0.1847 - acc: 0.9389Epoch 00003: val_acc did not improve\n",
      "2488/2488 [==============================] - 35s 14ms/step - loss: 0.1845 - acc: 0.9389 - val_loss: 0.3242 - val_acc: 0.8831\n",
      "Epoch 4/15\n",
      "Model reset.  2488\n",
      "2487/2488 [============================>.] - ETA: 0s - loss: 0.1579 - acc: 0.9481Epoch 00004: val_acc did not improve\n",
      "2488/2488 [==============================] - 35s 14ms/step - loss: 0.1579 - acc: 0.9482 - val_loss: 0.3530 - val_acc: 0.8976\n",
      "Epoch 5/15\n",
      "Model reset.  2488\n",
      "2487/2488 [============================>.] - ETA: 0s - loss: 0.1458 - acc: 0.9550Epoch 00005: val_acc did not improve\n",
      "2488/2488 [==============================] - 35s 14ms/step - loss: 0.1458 - acc: 0.9550 - val_loss: 0.2506 - val_acc: 0.9012\n",
      "Epoch 6/15\n",
      "Model reset.  2488\n",
      "2485/2488 [============================>.] - ETA: 0s - loss: 0.1252 - acc: 0.9565Epoch 00006: val_acc did not improve\n",
      "2488/2488 [==============================] - 35s 14ms/step - loss: 0.1251 - acc: 0.9566 - val_loss: 0.3815 - val_acc: 0.8639\n",
      "Epoch 7/15\n",
      "Model reset.  2488\n",
      "2486/2488 [============================>.] - ETA: 0s - loss: 0.1237 - acc: 0.9602Epoch 00007: val_acc did not improve\n",
      "2488/2488 [==============================] - 35s 14ms/step - loss: 0.1236 - acc: 0.9602 - val_loss: 0.3105 - val_acc: 0.8988\n",
      "Epoch 8/15\n",
      "Model reset.  2488\n",
      "2484/2488 [============================>.] - ETA: 0s - loss: 0.1025 - acc: 0.9654Epoch 00008: val_acc improved from 0.91928 to 0.93614, saving model to bestWeightsLSTMStateful3L50.hdf5\n",
      "2488/2488 [==============================] - 35s 14ms/step - loss: 0.1023 - acc: 0.9654 - val_loss: 0.2299 - val_acc: 0.9361\n",
      "Epoch 9/15\n",
      "Model reset.  2488\n",
      "2485/2488 [============================>.] - ETA: 0s - loss: 0.1094 - acc: 0.9642Epoch 00009: val_acc did not improve\n",
      "2488/2488 [==============================] - 35s 14ms/step - loss: 0.1093 - acc: 0.9642 - val_loss: 0.3551 - val_acc: 0.9060\n",
      "Epoch 10/15\n",
      "Model reset.  2488\n",
      "2485/2488 [============================>.] - ETA: 0s - loss: 0.0967 - acc: 0.9678Epoch 00010: val_acc did not improve\n",
      "2488/2488 [==============================] - 35s 14ms/step - loss: 0.0966 - acc: 0.9678 - val_loss: 0.3177 - val_acc: 0.9108\n",
      "Epoch 11/15\n",
      "Model reset.  2488\n",
      "2487/2488 [============================>.] - ETA: 0s - loss: 0.0937 - acc: 0.9670Epoch 00011: val_acc did not improve\n",
      "2488/2488 [==============================] - 35s 14ms/step - loss: 0.0937 - acc: 0.9670 - val_loss: 0.1780 - val_acc: 0.9361\n",
      "Epoch 12/15\n",
      "Model reset.  2488\n",
      "2484/2488 [============================>.] - ETA: 0s - loss: 0.1021 - acc: 0.9638Epoch 00012: val_acc improved from 0.93614 to 0.94096, saving model to bestWeightsLSTMStateful3L50.hdf5\n",
      "2488/2488 [==============================] - 30s 12ms/step - loss: 0.1019 - acc: 0.9638 - val_loss: 0.1709 - val_acc: 0.9410\n",
      "Epoch 13/15\n",
      "Model reset.  2488\n",
      "2484/2488 [============================>.] - ETA: 0s - loss: 0.0702 - acc: 0.9771Epoch 00013: val_acc did not improve\n",
      "2488/2488 [==============================] - 28s 11ms/step - loss: 0.0701 - acc: 0.9771 - val_loss: 0.3277 - val_acc: 0.9096\n",
      "Epoch 14/15\n",
      "Model reset.  2488\n",
      "2486/2488 [============================>.] - ETA: 0s - loss: 0.0892 - acc: 0.9662Epoch 00014: val_acc did not improve\n",
      "2488/2488 [==============================] - 27s 11ms/step - loss: 0.0891 - acc: 0.9662 - val_loss: 0.1978 - val_acc: 0.9337\n",
      "Epoch 15/15\n",
      "Model reset.  2488\n",
      "2484/2488 [============================>.] - ETA: 0s - loss: 0.0873 - acc: 0.9706Epoch 00015: val_acc did not improve\n",
      "2488/2488 [==============================] - 28s 11ms/step - loss: 0.0871 - acc: 0.9707 - val_loss: 0.2121 - val_acc: 0.9373\n",
      "\n",
      "===========================\n",
      "Time for testing\n",
      "===========================\n",
      "\n",
      "Optimal weights loaded from file bestWeightsLSTMStateful3L50.hdf5\n",
      "Model Successfully compiled with loaded weights\n",
      "\n",
      "830/830 [==============================] - 3s 3ms/step\n",
      "Loss for testing = 0.19672709807340055 and Accuracy for testing = 0.9506024096385542\n"
     ]
    },
    {
     "name": "stderr",
     "output_type": "stream",
     "text": [
      "c:\\users\\salman\\appdata\\local\\programs\\python\\python36\\lib\\site-packages\\sklearn\\metrics\\classification.py:1135: UndefinedMetricWarning: F-score is ill-defined and being set to 0.0 in labels with no predicted samples.\n",
      "  'precision', 'predicted', average, warn_for)\n"
     ]
    },
    {
     "name": "stdout",
     "output_type": "stream",
     "text": [
      "Average F1 score is 0.9484694833514373\n",
      "Confusion matrix: \n",
      " Predicted    0    1    2    3\n",
      "Actual                       \n",
      "0          196    0    4    0\n",
      "1            0  185    5   10\n",
      "2            0    3  185   12\n",
      "3            0    2    1  223\n",
      "4            0    1    0    3\n",
      "n_classes is:  5\n"
     ]
    },
    {
     "data": {
      "image/png": "[encoded data removed]",
      "text/plain": [
       "<matplotlib.figure.Figure at 0x2701f3d1c88>"
      ]
     },
     "metadata": {},
     "output_type": "display_data"
    },
    {
     "name": "stdout",
     "output_type": "stream",
     "text": [
      "--- 524.9261395931244 seconds ---\n"
     ]
    }
   ],
   "source": [
    "#Implementing validation\n",
    "\n",
    "Batch_size=1\n",
    "start_time = time.time()\n",
    "\n",
    "x_train,y_train = processTrainTestArrays(X_train,Y_train)\n",
    "x_val,y_val = processTrainTestArrays(X_val,Y_val)\n",
    "model = create_model(x_train,y_train, 50)\n",
    "\n",
    "#for i in range(100):\n",
    "model.fit(x_train, y_train, epochs=15, batch_size=Batch_size, verbose=1, shuffle=False,\n",
    "            validation_data = (x_val,y_val),callbacks=[checkpoint,ResetStatesCallback()])\n",
    "\n",
    "#model.fit(x_train, y_train, epochs=15, batch_size=Batch_size, verbose=1, shuffle=False,\n",
    "#            validation_data = (x_val,y_val),callbacks=[checkpoint])\n",
    "\n",
    "#Test with best model\n",
    "#Load weights and compile again\n",
    "print(\"\\n===========================\\nTime for testing\\n===========================\\n\")\n",
    "model.load_weights(hdf5FileName)\n",
    "nadam = optimizers.Nadam(lr=0.002, beta_1=0.9, beta_2=0.999, epsilon=1e-08, schedule_decay=0.004)\n",
    "model.compile(loss='categorical_crossentropy', optimizer=nadam, metrics=['accuracy'])\n",
    "print(\"Optimal weights loaded from file {}\".format(hdf5FileName))\n",
    "print(\"Model Successfully compiled with loaded weights\\n\")\n",
    "\n",
    "#Do same preprocessing for test data\n",
    "x_test,y_test = processTrainTestArrays(X_test,Y_test)\n",
    "loss,acc = model.evaluate(x_test,y_test,batch_size=Batch_size)\n",
    "print(\"Loss for testing = {} and Accuracy for testing = {}\".format(loss,acc))\n",
    "predicted = model.predict(x_test,batch_size=Batch_size)\n",
    "compute_metrics(predicted, y_test)    \n",
    "\n",
    "print(\"--- %s seconds ---\" % (time.time() - start_time))\n"
   ]
  },
  {
   "cell_type": "code",
   "execution_count": null,
   "metadata": {
    "collapsed": true,
    "scrolled": false
   },
   "outputs": [],
   "source": []
  },
  {
   "cell_type": "code",
   "execution_count": 27,
   "metadata": {
    "collapsed": true
   },
   "outputs": [],
   "source": [
    "#temp =[np.argmax(item)+1 for item in predicted]"
   ]
  },
  {
   "cell_type": "code",
   "execution_count": 28,
   "metadata": {
    "collapsed": true
   },
   "outputs": [],
   "source": [
    "#temp1 = [np.argmax(item)+1 for item in Y_test]"
   ]
  },
  {
   "cell_type": "code",
   "execution_count": null,
   "metadata": {
    "collapsed": true
   },
   "outputs": [],
   "source": []
  },
  {
   "cell_type": "code",
   "execution_count": null,
   "metadata": {
    "collapsed": true
   },
   "outputs": [],
   "source": []
  }
 ],
 "metadata": {
  "kernelspec": {
   "display_name": "Python 3",
   "language": "python",
   "name": "python3"
  },
  "language_info": {
   "codemirror_mode": {
    "name": "ipython",
    "version": 3
   },
   "file_extension": ".py",
   "mimetype": "text/x-python",
   "name": "python",
   "nbconvert_exporter": "python",
   "pygments_lexer": "ipython3",
   "version": "3.6.0"
  }
 },
 "nbformat": 4,
 "nbformat_minor": 2
}
