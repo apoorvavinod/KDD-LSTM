{
 "cells": [
  {
   "cell_type": "code",
   "execution_count": 1,
   "metadata": {
    "collapsed": false
   },
   "outputs": [
    {
     "name": "stderr",
     "output_type": "stream",
     "text": [
      "Using TensorFlow backend.\n"
     ]
    }
   ],
   "source": [
    "from keras.models import Sequential\n",
    "from keras.layers import LSTM,Dropout\n",
    "from keras.layers import Dense\n",
    "import pandas as pd\n",
    "import numpy as np\n",
    "from sklearn.model_selection import train_test_split\n",
    "from sklearn import decomposition\n",
    "from sklearn.feature_selection import SelectKBest\n",
    "from sklearn.feature_selection import chi2\n",
    "from sklearn.pipeline import FeatureUnion\n",
    "from sklearn.model_selection import StratifiedKFold\n",
    "import matplotlib.pyplot as plt\n",
    "import scikitplot as skplt\n",
    "from sklearn.preprocessing import label_binarize\n",
    "from sklearn.metrics import roc_curve, auc\n",
    "from scipy import interp\n",
    "from itertools import cycle\n",
    "import time\n",
    "from keras import metrics\n",
    "from keras import optimizers\n",
    "from keras import initializers\n",
    "from keras.callbacks import ModelCheckpoint\n",
    "import pprint\n",
    "from keras.callbacks import Callback"
   ]
  },
  {
   "cell_type": "code",
   "execution_count": 2,
   "metadata": {
    "collapsed": true
   },
   "outputs": [],
   "source": [
    "kdd_dataset = pd.read_csv('KDD.preProcessed.csv')\n",
    "np.random.seed(42)\n",
    "kdd_dataset.head()"
   ]
  },
  {
   "cell_type": "code",
   "execution_count": 3,
   "metadata": {
    "collapsed": true
   },
   "outputs": [],
   "source": [
    "features = list(kdd_dataset)\n",
    "features.remove('label_DoS')\n",
    "features.remove('label_Normal')\n",
    "features.remove('label_Probe')\n",
    "features.remove('label_R2L')\n",
    "features.remove('label_U2R')"
   ]
  },
  {
   "cell_type": "code",
   "execution_count": 4,
   "metadata": {
    "collapsed": true
   },
   "outputs": [],
   "source": [
    "\n",
    "DoS = kdd_dataset.loc[kdd_dataset['label_DoS'] == 1]\n",
    "Normal = kdd_dataset.loc[kdd_dataset['label_Normal'] == 1]\n",
    "Probe = kdd_dataset.loc[kdd_dataset['label_Probe'] == 1]\n",
    "R2L = kdd_dataset.loc[kdd_dataset['label_R2L'] == 1]\n",
    "U2R = kdd_dataset.loc[kdd_dataset['label_U2R'] == 1]\n"
   ]
  },
  {
   "cell_type": "code",
   "execution_count": 5,
   "metadata": {
    "collapsed": false
   },
   "outputs": [
    {
     "data": {
      "text/plain": [
       "'\\nDoS = DoS.sample(n=100000,random_state = 42)\\nNormal = Normal.sample(n=100000, random_state = 42)\\nProbe = Probe.sample(n=40000, random_state=42)\\nR2L = R2L.sample(n=1126, random_state=42)\\n'"
      ]
     },
     "execution_count": 5,
     "metadata": {},
     "output_type": "execute_result"
    }
   ],
   "source": [
    "#Reduce oversampled data by a factor of 40. Same class distribution maintained after reduction.\n",
    "\n",
    "DoS = DoS.sample(n=97084,random_state = 42)\n",
    "Normal = Normal.sample(n=24320, random_state = 42)\n",
    "Probe = Probe.sample(n=1027, random_state=42)\n",
    "R2L = R2L.sample(n=1126, random_state=42)\n",
    "\n",
    "\n"
   ]
  },
  {
   "cell_type": "code",
   "execution_count": 6,
   "metadata": {
    "collapsed": true
   },
   "outputs": [],
   "source": [
    "#Optionally oversample imbalanced classes\n",
    "\n",
    "#U2R = U2R.append([U2R]*500,ignore_index=True)\n",
    "#R2L = R2L.append([R2L]*100,ignore_index=True)"
   ]
  },
  {
   "cell_type": "code",
   "execution_count": 7,
   "metadata": {
    "collapsed": true
   },
   "outputs": [],
   "source": [
    "reduced_dataset = pd.concat([DoS,Normal,Probe,R2L,U2R])\n",
    "kdd_dataset = reduced_dataset.sample(n=len(reduced_dataset), random_state = 42)"
   ]
  },
  {
   "cell_type": "code",
   "execution_count": 8,
   "metadata": {
    "collapsed": false
   },
   "outputs": [
    {
     "name": "stdout",
     "output_type": "stream",
     "text": [
      "number of datapoints = 4148 and number of features = 53\n"
     ]
    }
   ],
   "source": [
    "\n",
    "x = kdd_dataset[features].values\n",
    "y = kdd_dataset.iloc[:,53:].values\n",
    "print(\"number of datapoints = {} and number of features = {}\".format(len(x),len(x[0])))"
   ]
  },
  {
   "cell_type": "code",
   "execution_count": 9,
   "metadata": {
    "collapsed": false
   },
   "outputs": [
    {
     "name": "stdout",
     "output_type": "stream",
     "text": [
      "Counter({(0, 0, 0, 1, 0): 1126, (1, 0, 0, 0, 0): 1000, (0, 1, 0, 0, 0): 1000, (0, 0, 1, 0, 0): 1000, (0, 0, 0, 0, 1): 22})\n"
     ]
    }
   ],
   "source": [
    "# Counting occurrences\n",
    "from collections import Counter\n",
    "print(Counter([tuple(x) for x in y]))"
   ]
  },
  {
   "cell_type": "code",
   "execution_count": 16,
   "metadata": {
    "collapsed": false
   },
   "outputs": [
    {
     "name": "stdout",
     "output_type": "stream",
     "text": [
      "Shape before transformation - (4148, 53)\n",
      "Shape after transformation - (4148, 10)\n"
     ]
    }
   ],
   "source": [
    "#PCA\n",
    "\n",
    "print(\"Shape before transformation - {}\".format(np.asarray(x).shape))\n",
    "pca = decomposition.PCA(n_components=10)\n",
    "pca.fit(x)\n",
    "x_pca = pca.transform(x)\n",
    "print(\"Shape after transformation - {}\".format(x_pca.shape))\n",
    "x_pca = x_pca.tolist()\n",
    "\n"
   ]
  },
  {
   "cell_type": "code",
   "execution_count": 17,
   "metadata": {
    "collapsed": true
   },
   "outputs": [],
   "source": [
    "#Train test validation split - 60:20:20\n",
    "from sklearn.model_selection import train_test_split\n",
    "X_tr, X_val, Y_tr, Y_val = train_test_split(x_pca, y,\n",
    "                                                    stratify=y, \n",
    "                                                    test_size=0.2,\n",
    "                                                    random_state=42)\n"
   ]
  },
  {
   "cell_type": "code",
   "execution_count": 18,
   "metadata": {
    "collapsed": true
   },
   "outputs": [],
   "source": [
    "X_train, X_test, Y_train, Y_test = train_test_split(X_tr, Y_tr,\n",
    "                                                    stratify=Y_tr, \n",
    "                                                    test_size=0.25,\n",
    "                                                    random_state=42)\n",
    "max_len = len(X_train)"
   ]
  },
  {
   "cell_type": "code",
   "execution_count": 19,
   "metadata": {
    "collapsed": true
   },
   "outputs": [],
   "source": [
    "def processTrainTestArrays(x,y):\n",
    "    x=np.asarray(x)\n",
    "    y=np.asarray(y)\n",
    "    x = np.reshape(x, (x.shape[0], x.shape[1],1))\n",
    "    y=np.reshape(y, (y.shape[0], y.shape[1]))\n",
    "    return x,y"
   ]
  },
  {
   "cell_type": "code",
   "execution_count": 20,
   "metadata": {
    "collapsed": true
   },
   "outputs": [],
   "source": [
    "def onehotencode(y):\n",
    "    from keras.utils.np_utils import to_categorical\n",
    "    y_binary = to_categorical(y)\n",
    "    return y_binary"
   ]
  },
  {
   "cell_type": "code",
   "execution_count": 21,
   "metadata": {
    "collapsed": true
   },
   "outputs": [],
   "source": [
    "# define model\n",
    "def create_model(X_train,Y_train, number_of_units):\n",
    "    Batch_size = 1\n",
    "    randomInit = initializers.RandomUniform(seed=42)\n",
    "    nadam = optimizers.Nadam(lr=0.002, beta_1=0.9, beta_2=0.999, epsilon=1e-08, schedule_decay=0.004)\n",
    "    \n",
    "    model = Sequential()\n",
    "    #model.add(LSTM(number_of_units, kernel_initializer = randomInit, bias_initializer = randomInit,\n",
    "    #               batch_input_shape=(Batch_size,X_train.shape[1], X_train.shape[2]),return_sequences=True))\n",
    "    #model.add(Dropout(0.1))\n",
    "    #model.add(LSTM(number_of_units, kernel_initializer = randomInit, bias_initializer = randomInit,\n",
    "    #               batch_input_shape=(Batch_size,X_train.shape[1], X_train.shape[2]),return_sequences=True))\n",
    "    #model.add(Dropout(0.1))\n",
    "    model.add(LSTM(number_of_units, kernel_initializer = randomInit, bias_initializer = randomInit,\n",
    "                   batch_input_shape=(Batch_size,X_train.shape[1], X_train.shape[2])))\n",
    "    #model.add(Dropout(0.1))\n",
    "    model.add(Dense(Y_train.shape[1], activation='softmax'))\n",
    "    \n",
    "    nadam = optimizers.Nadam(lr=0.002, beta_1=0.9, beta_2=0.999, epsilon=1e-08, schedule_decay=0.004)\n",
    "    model.compile(loss='categorical_crossentropy', optimizer=nadam, metrics=['accuracy'])\n",
    "\n",
    "    print(model.summary())\n",
    "    return model"
   ]
  },
  {
   "cell_type": "code",
   "execution_count": 23,
   "metadata": {
    "collapsed": true
   },
   "outputs": [],
   "source": [
    "def compute_metrics(predicted, Y_test):\n",
    "   \n",
    "    Y_classes = [np.argmax(item) for item in Y_test]\n",
    "    #print(Y_classes)\n",
    "    predicted_classes = [np.argmax(item) for item in predicted]\n",
    "    \n",
    "    predictions = np.array(predicted_classes)\n",
    "    Y_actual = np.array(Y_classes)\n",
    "   \n",
    "    y_actu = pd.Series(np.reshape(Y_actual,len(Y_actual)), name='Actual')\n",
    "    y_pred = pd.Series(np.reshape(predictions, len(predictions)), name='Predicted')\n",
    "    \n",
    "    y_act = pd.Categorical(y_actu, categories=[0,1,2,3,4])\n",
    "    y_pre = pd.Categorical(y_pred, categories=[0,1,2,3,4])\n",
    "    \n",
    "    #F1 score\n",
    "    from sklearn.metrics import f1_score\n",
    "    print(\"Average F1 score is {}\".format(f1_score(Y_classes, predicted_classes, average='weighted', labels = [0,1,2,3,4])))\n",
    "    \n",
    "    df_confusion = pd.crosstab(y_act, y_pre, rownames =['Actual'],colnames=['Predicted'])\n",
    "    print(\"Confusion matrix: \\n\", df_confusion)\n",
    "    #pprint.pprint(df_confusion)\n",
    "    predicted= np.array(predicted).tolist()\n",
    "    Y_test = np.array(Y_test).tolist()\n",
    "\n",
    "    n_classes = 5\n",
    "    print(\"n_classes is: \", n_classes)\n",
    "    Y_test= np.asarray(Y_test)\n",
    "    predicted = np.asarray(predicted)\n",
    "    \n",
    "    fpr = dict()\n",
    "    tpr = dict()\n",
    "    roc_auc = dict()\n",
    "    for i in range(n_classes):\n",
    "        fpr[i], tpr[i], _ = roc_curve(Y_test[:, i], predicted[:, i])\n",
    "        roc_auc[i] = auc(fpr[i], tpr[i])\n",
    "\n",
    "    # Compute micro-average ROC curve and ROC area\n",
    "    fpr[\"micro\"], tpr[\"micro\"], _ = roc_curve(Y_test.ravel(), predicted.ravel())\n",
    "    roc_auc[\"micro\"] = auc(fpr[\"micro\"], tpr[\"micro\"])\n",
    "    \n",
    "    lw = 2\n",
    "    # Compute macro-average ROC curve and ROC area\n",
    "    #First aggregate all false positive rates\n",
    "    all_fpr = np.unique(np.concatenate([fpr[i] for i in range(n_classes)]))\n",
    "\n",
    "    # Then interpolate all ROC curves at this points\n",
    "    mean_tpr = np.zeros_like(all_fpr)\n",
    "    for i in range(n_classes):\n",
    "        mean_tpr += interp(all_fpr, fpr[i], tpr[i])\n",
    "\n",
    "    # Finally average it and compute AUC\n",
    "    mean_tpr /= n_classes\n",
    "\n",
    "    fpr[\"macro\"] = all_fpr\n",
    "    tpr[\"macro\"] = mean_tpr\n",
    "    roc_auc[\"macro\"] = auc(fpr[\"macro\"], tpr[\"macro\"])\n",
    "\n",
    "    # Plot all ROC curves\n",
    "    plt.figure()\n",
    "    plt.plot(fpr[\"micro\"], tpr[\"micro\"],\n",
    "             label='micro-average ROC curve (area = {0:0.2f})'\n",
    "                   ''.format(roc_auc[\"micro\"]),\n",
    "             color='deeppink', linestyle=':', linewidth=4)\n",
    "\n",
    "    plt.plot(fpr[\"macro\"], tpr[\"macro\"],\n",
    "             label='macro-average ROC curve (area = {0:0.2f})'\n",
    "                   ''.format(roc_auc[\"macro\"]),\n",
    "             color='navy', linestyle=':', linewidth=4)\n",
    "\n",
    "    colors = cycle(['aqua', 'darkorange', 'cornflowerblue'])\n",
    "    for i, color in zip(range(n_classes), colors):\n",
    "        plt.plot(fpr[i], tpr[i], color=color, lw=lw,\n",
    "                 label='ROC curve of class {0} (area = {1:0.2f})'\n",
    "                 ''.format(i, roc_auc[i]))\n",
    "\n",
    "    plt.plot([0, 1], [0, 1], 'k--', lw=lw)\n",
    "    plt.xlim([0.0, 1.0])\n",
    "    plt.ylim([0.0, 1.05])\n",
    "    plt.xlabel('False Positive Rate')\n",
    "    plt.ylabel('True Positive Rate')\n",
    "    plt.legend(loc=\"lower right\")\n",
    "    plt.show()"
   ]
  },
  {
   "cell_type": "code",
   "execution_count": 24,
   "metadata": {
    "collapsed": true
   },
   "outputs": [],
   "source": [
    "#checkpoint save weights\n",
    "#Y_train\n",
    "\n",
    "hdf5FileName = \"bestWeightsLSTMStateless3L50.hdf5\"\n",
    "checkpoint = ModelCheckpoint(hdf5FileName,monitor='val_acc',verbose=1,save_best_only=True,mode='max',save_weights_only=True)"
   ]
  },
  {
   "cell_type": "code",
   "execution_count": 26,
   "metadata": {
    "collapsed": false,
    "scrolled": false
   },
   "outputs": [
    {
     "name": "stdout",
     "output_type": "stream",
     "text": [
      "_________________________________________________________________\n",
      "Layer (type)                 Output Shape              Param #   \n",
      "=================================================================\n",
      "lstm_1 (LSTM)                (1, 10, 50)               10400     \n",
      "_________________________________________________________________\n",
      "lstm_2 (LSTM)                (1, 10, 50)               20200     \n",
      "_________________________________________________________________\n",
      "lstm_3 (LSTM)                (1, 50)                   20200     \n",
      "_________________________________________________________________\n",
      "dense_1 (Dense)              (1, 5)                    255       \n",
      "=================================================================\n",
      "Total params: 51,055\n",
      "Trainable params: 51,055\n",
      "Non-trainable params: 0\n",
      "_________________________________________________________________\n",
      "None\n",
      "Train on 2488 samples, validate on 830 samples\n",
      "Epoch 1/15\n",
      "2487/2488 [============================>.] - ETA: 0s - loss: 0.5256 - acc: 0.7998Epoch 00001: val_acc improved from -inf to 0.92651, saving model to bestWeightsLSTMStateless3L50.hdf5\n",
      "2488/2488 [==============================] - 31s 13ms/step - loss: 0.5254 - acc: 0.7998 - val_loss: 0.2352 - val_acc: 0.9265\n",
      "Epoch 2/15\n",
      "2484/2488 [============================>.] - ETA: 0s - loss: 0.2566 - acc: 0.9143Epoch 00002: val_acc improved from 0.92651 to 0.94578, saving model to bestWeightsLSTMStateless3L50.hdf5\n",
      "2488/2488 [==============================] - 28s 11ms/step - loss: 0.2562 - acc: 0.9144 - val_loss: 0.1873 - val_acc: 0.9458\n",
      "Epoch 3/15\n",
      "2487/2488 [============================>.] - ETA: 0s - loss: 0.1682 - acc: 0.9465Epoch 00003: val_acc did not improve\n",
      "2488/2488 [==============================] - 28s 11ms/step - loss: 0.1681 - acc: 0.9465 - val_loss: 0.1902 - val_acc: 0.9361\n",
      "Epoch 4/15\n",
      "2483/2488 [============================>.] - ETA: 0s - loss: 0.1260 - acc: 0.9569Epoch 00004: val_acc did not improve\n",
      "2488/2488 [==============================] - 30s 12ms/step - loss: 0.1258 - acc: 0.9570 - val_loss: 0.2225 - val_acc: 0.9277\n",
      "Epoch 5/15\n",
      "2485/2488 [============================>.] - ETA: 0s - loss: 0.1120 - acc: 0.9602Epoch 00005: val_acc improved from 0.94578 to 0.95181, saving model to bestWeightsLSTMStateless3L50.hdf5\n",
      "2488/2488 [==============================] - 35s 14ms/step - loss: 0.1119 - acc: 0.9602 - val_loss: 0.1490 - val_acc: 0.9518\n",
      "Epoch 6/15\n",
      "2487/2488 [============================>.] - ETA: 0s - loss: 0.1090 - acc: 0.9642Epoch 00006: val_acc did not improve\n",
      "2488/2488 [==============================] - 36s 14ms/step - loss: 0.1089 - acc: 0.9642 - val_loss: 0.1372 - val_acc: 0.9494\n",
      "Epoch 7/15\n",
      "2485/2488 [============================>.] - ETA: 0s - loss: 0.0909 - acc: 0.9666Epoch 00007: val_acc improved from 0.95181 to 0.95422, saving model to bestWeightsLSTMStateless3L50.hdf5\n",
      "2488/2488 [==============================] - 36s 14ms/step - loss: 0.0908 - acc: 0.9666 - val_loss: 0.1483 - val_acc: 0.9542\n",
      "Epoch 8/15\n",
      "2487/2488 [============================>.] - ETA: 0s - loss: 0.0837 - acc: 0.9723Epoch 00008: val_acc improved from 0.95422 to 0.95542, saving model to bestWeightsLSTMStateless3L50.hdf5\n",
      "2488/2488 [==============================] - 35s 14ms/step - loss: 0.0837 - acc: 0.9723 - val_loss: 0.1587 - val_acc: 0.9554\n",
      "Epoch 9/15\n",
      "2483/2488 [============================>.] - ETA: 0s - loss: 0.0839 - acc: 0.9698Epoch 00009: val_acc did not improve\n",
      "2488/2488 [==============================] - 35s 14ms/step - loss: 0.0837 - acc: 0.9699 - val_loss: 0.1472 - val_acc: 0.9506\n",
      "Epoch 10/15\n",
      "2483/2488 [============================>.] - ETA: 0s - loss: 0.0708 - acc: 0.9738Epoch 00010: val_acc did not improve\n",
      "2488/2488 [==============================] - 35s 14ms/step - loss: 0.0706 - acc: 0.9739 - val_loss: 0.1459 - val_acc: 0.9530\n",
      "Epoch 11/15\n",
      "2487/2488 [============================>.] - ETA: 0s - loss: 0.0743 - acc: 0.9723Epoch 00011: val_acc did not improve\n",
      "2488/2488 [==============================] - 35s 14ms/step - loss: 0.0743 - acc: 0.9723 - val_loss: 0.1481 - val_acc: 0.9530\n",
      "Epoch 12/15\n",
      "2484/2488 [============================>.] - ETA: 0s - loss: 0.0613 - acc: 0.9783Epoch 00012: val_acc did not improve\n",
      "2488/2488 [==============================] - 36s 14ms/step - loss: 0.0612 - acc: 0.9783 - val_loss: 0.2012 - val_acc: 0.9446\n",
      "Epoch 13/15\n",
      "2484/2488 [============================>.] - ETA: 0s - loss: 0.0596 - acc: 0.9750Epoch 00013: val_acc did not improve\n",
      "2488/2488 [==============================] - 36s 14ms/step - loss: 0.0595 - acc: 0.9751 - val_loss: 0.1670 - val_acc: 0.9458\n",
      "Epoch 14/15\n",
      "2484/2488 [============================>.] - ETA: 0s - loss: 0.0688 - acc: 0.9762Epoch 00014: val_acc improved from 0.95542 to 0.96386, saving model to bestWeightsLSTMStateless3L50.hdf5\n",
      "2488/2488 [==============================] - 36s 14ms/step - loss: 0.0687 - acc: 0.9763 - val_loss: 0.1620 - val_acc: 0.9639\n",
      "Epoch 15/15\n",
      "2484/2488 [============================>.] - ETA: 0s - loss: 0.0707 - acc: 0.9722Epoch 00015: val_acc did not improve\n",
      "2488/2488 [==============================] - 36s 14ms/step - loss: 0.0706 - acc: 0.9723 - val_loss: 0.2008 - val_acc: 0.9313\n",
      "\n",
      "===========================\n",
      "Time for testing\n",
      "===========================\n",
      "\n",
      "Optimal weights loaded from file bestWeightsLSTMStateless3L50.hdf5\n",
      "Model Successfully compiled with loaded weights\n",
      "\n",
      "830/830 [==============================] - 4s 4ms/step\n",
      "Loss for testing = 0.14889998437307872 and Accuracy for testing = 0.9614457831325302\n",
      "Average F1 score is 0.9596622609502754\n",
      "Confusion matrix: \n",
      " Predicted    0    1    2    3  4\n",
      "Actual                          \n",
      "0          196    0    4    0  0\n",
      "1            1  186    5    8  0\n",
      "2            1    1  194    4  0\n",
      "3            0    3    0  222  1\n",
      "4            0    3    0    1  0\n",
      "n_classes is:  5\n"
     ]
    },
    {
     "data": {
      "image/png": "[encoded data removed]",
      "text/plain": [
       "<matplotlib.figure.Figure at 0x1af1f421b70>"
      ]
     },
     "metadata": {},
     "output_type": "display_data"
    },
    {
     "name": "stdout",
     "output_type": "stream",
     "text": [
      "--- 520.3728721141815 seconds ---\n"
     ]
    }
   ],
   "source": [
    "#Time to train\n",
    "\n",
    "Batch_size=1\n",
    "start_time = time.time()\n",
    "\n",
    "x_train,y_train = processTrainTestArrays(X_train,Y_train)\n",
    "x_val,y_val = processTrainTestArrays(X_val,Y_val)\n",
    "model = create_model(x_train,y_train, 50)\n",
    "\n",
    "\n",
    "model.fit(x_train, y_train, epochs=15, batch_size=Batch_size, verbose=1, shuffle=False,\n",
    "            validation_data = (x_val,y_val),callbacks=[checkpoint])  \n",
    "\n",
    "print(\"--- %s seconds ---\" % (time.time() - start_time))\n"
   ]
  },
  {
   "cell_type": "code",
   "execution_count": null,
   "metadata": {
    "collapsed": true,
    "scrolled": false
   },
   "outputs": [],
   "source": [
    "#Test with best model\n",
    "#Load weights and compile again\n",
    "print(\"\\n===========================\\nTime for testing\\n===========================\\n\")\n",
    "model.load_weights(hdf5FileName)\n",
    "nadam = optimizers.Nadam(lr=0.002, beta_1=0.9, beta_2=0.999, epsilon=1e-08, schedule_decay=0.004)\n",
    "model.compile(loss='categorical_crossentropy', optimizer=nadam, metrics=['accuracy'])\n",
    "print(\"Optimal weights loaded from file {}\".format(hdf5FileName))\n",
    "print(\"Model Successfully compiled with loaded weights\\n\")\n",
    "\n",
    "#Do same preprocessing for test data\n",
    "x_test,y_test = processTrainTestArrays(X_test,Y_test)\n",
    "loss,acc = model.evaluate(x_test,y_test,batch_size=Batch_size)\n",
    "print(\"Loss for testing = {} and Accuracy for testing = {}\".format(loss,acc))\n",
    "predicted = model.predict(x_test,batch_size=Batch_size)\n",
    "compute_metrics(predicted, y_test)  "
   ]
  },
  {
   "cell_type": "code",
   "execution_count": null,
   "metadata": {
    "collapsed": true
   },
   "outputs": [],
   "source": []
  }
 ],
 "metadata": {
  "kernelspec": {
   "display_name": "Python 3",
   "language": "python",
   "name": "python3"
  },
  "language_info": {
   "codemirror_mode": {
    "name": "ipython",
    "version": 3
   },
   "file_extension": ".py",
   "mimetype": "text/x-python",
   "name": "python",
   "nbconvert_exporter": "python",
   "pygments_lexer": "ipython3",
   "version": "3.6.0"
  }
 },
 "nbformat": 4,
 "nbformat_minor": 2
}
